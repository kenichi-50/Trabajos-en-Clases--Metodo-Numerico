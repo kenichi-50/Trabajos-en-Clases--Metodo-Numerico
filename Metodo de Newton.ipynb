{
 "cells": [
  {
   "cell_type": "markdown",
   "id": "39e63d1f",
   "metadata": {},
   "source": [
    "# Quizz\n",
    "## Nombre: \n",
    "Joel Stalin Tinitana Carrion \n",
    "## Fecha:\n",
    "05/05/2025"
   ]
  },
  {
   "cell_type": "code",
   "execution_count": 5,
   "id": "50aed1f9",
   "metadata": {},
   "outputs": [
    {
     "data": {
      "image/png": "[encoded data removed]",
      "text/plain": [
       "<Figure size 800x500 with 1 Axes>"
      ]
     },
     "metadata": {},
     "output_type": "display_data"
    }
   ],
   "source": [
    "# Importar las bibliotecas necesarias\n",
    "import numpy as np\n",
    "import matplotlib.pyplot as plt\n",
    "\n",
    "# Definir la función corregida\n",
    "def f(x):\n",
    "    return x**3 - 3*x**2 + x - 1  # Corregir la ecuación\n",
    "\n",
    "# Definir el rango de valores para x\n",
    "x = np.linspace(-2, 4, 500)  # Rango de -2 a 4 con 500 puntos\n",
    "\n",
    "# Recalcular y\n",
    "y = f(x)\n",
    "\n",
    "# Graficar la función corregida\n",
    "plt.figure(figsize=(8, 5))\n",
    "plt.plot(x, y, label=r'$f(x) = x^3 - 3x^2 + x - 1$', color='red')\n",
    "plt.axhline(0, color='gray', linestyle='--')  # Eje X\n",
    "plt.axvline(0, color='gray', linestyle='--')  # Eje Y\n",
    "\n",
    "# Mejorar la visualización\n",
    "plt.title('Gráfica de $f(x) = x^3 - 3x^2 + x - 1$')\n",
    "plt.xlabel('x')\n",
    "plt.ylabel('f(x)')\n",
    "plt.grid(True)\n",
    "plt.legend()\n",
    "plt.tight_layout()\n",
    "plt.show()\n"
   ]
  },
  {
   "cell_type": "code",
   "execution_count": 6,
   "id": "31db0077",
   "metadata": {},
   "outputs": [
    {
     "name": "stdout",
     "output_type": "stream",
     "text": [
      "Raíz aproximada: -0.500000 encontrada en 22 iteraciones.\n"
     ]
    },
    {
     "data": {
      "text/plain": [
       "-0.49999988079071045"
      ]
     },
     "execution_count": 6,
     "metadata": {},
     "output_type": "execute_result"
    }
   ],
   "source": [
    "def f(x):\n",
    "    return x*3 - 3*x*2 + x - 1\n",
    "\n",
    "def biseccion(a, b, tol=1e-6, max_iter=100):\n",
    "    if f(a) * f(b) >= 0:\n",
    "        print(\"El método de bisección no es aplicable en este intervalo.\")\n",
    "        return None\n",
    "\n",
    "    iteraciones = 0\n",
    "    while (b - a)/2 > tol and iteraciones < max_iter:\n",
    "        c = (a + b)/2\n",
    "        if f(c) == 0:\n",
    "            break  # Se encontró la raíz exacta\n",
    "        elif f(a) * f(c) < 0:\n",
    "            b = c\n",
    "        else:\n",
    "            a = c\n",
    "        iteraciones += 1\n",
    "\n",
    "    c = (a + b)/2\n",
    "    print(f\"Raíz aproximada: {c:.6f} encontrada en {iteraciones} iteraciones.\")\n",
    "    return c\n",
    "\n",
    "# Ejecutar el método en el intervalo [-1, 4]\n",
    "biseccion(-1, 4)"
   ]
  },
  {
   "cell_type": "code",
   "execution_count": 10,
   "id": "25c6d4ce",
   "metadata": {},
   "outputs": [
    {
     "name": "stdout",
     "output_type": "stream",
     "text": [
      "La raíz encontrada usando el método de Newton con x0=100 es: 2.769292\n",
      "      converged: True\n",
      "           flag: converged\n",
      " function_calls: 30\n",
      "     iterations: 15\n",
      "           root: 2.7692923542386314\n",
      "         method: newton\n"
     ]
    }
   ],
   "source": [
    "from scipy.optimize import newton\n",
    "\n",
    "# Definir la derivada de la función\n",
    "def f_prime(x):\n",
    "    return 3*x**2 - 6*x + 1\n",
    "\n",
    "# Usar el método de Newton con full_output=True\n",
    "x0 = 100  # Valor inicial\n",
    "# Definir la función f(x) que falta\n",
    "def f(x):\n",
    "    return x**3 - 3*x**2 + x - 1\n",
    "\n",
    "# Usar el método de Newton con full_output=True\n",
    "raiz, info = newton(f, x0, fprime=f_prime, full_output=True)\n",
    "\n",
    "# Mostrar los resultados\n",
    "print(f\"La raíz encontrada usando el método de Newton con x0={x0} es: {raiz:.6f}\")\n",
    "print(info)"
   ]
  },
  {
   "cell_type": "code",
   "execution_count": 11,
   "id": "82aa1657",
   "metadata": {},
   "outputs": [
    {
     "name": "stdout",
     "output_type": "stream",
     "text": [
      "Valores de f(x) en cada iteración:\n",
      "Iteración 1: f(x) = 970099.000000\n",
      "Iteración 2: f(x) = 287421.554604\n",
      "Iteración 3: f(x) = 85151.643743\n",
      "Iteración 4: f(x) = 25223.076157\n",
      "Iteración 5: f(x) = 7468.634520\n",
      "Iteración 6: f(x) = 2209.505346\n",
      "Iteración 7: f(x) = 652.207625\n",
      "Iteración 8: f(x) = 191.427295\n",
      "Iteración 9: f(x) = 55.330187\n",
      "Iteración 10: f(x) = 15.308118\n",
      "Iteración 11: f(x) = 3.709464\n",
      "Iteración 12: f(x) = 0.593842\n",
      "Iteración 13: f(x) = 0.028540\n",
      "Iteración 14: f(x) = 0.000078\n",
      "Iteración 15: f(x) = 0.000000\n",
      "\n",
      "La raíz encontrada usando el método de Newton con x0=100 es: 2.769292\n"
     ]
    }
   ],
   "source": [
    "from scipy.optimize import newton\n",
    "\n",
    "# Definir la derivada de la función\n",
    "def f_prime(x):\n",
    "    return 3*x**2 - 6*x + 1\n",
    "\n",
    "# Definir la función f(x)\n",
    "def f(x):\n",
    "    return x**3 - 3*x**2 + x - 1\n",
    "\n",
    "# Lista para almacenar los valores de f(x) en cada iteración\n",
    "valores_fx = []\n",
    "\n",
    "# Función que almacena los valores de f(x) en cada iteración\n",
    "def f_with_output(x):\n",
    "    valores_fx.append(f(x))\n",
    "    return f(x)\n",
    "\n",
    "# Usar el método de Newton con full_output=True\n",
    "x0 = 100  # Valor inicial\n",
    "raiz, info = newton(f_with_output, x0, fprime=f_prime, full_output=True, maxiter=15)\n",
    "\n",
    "# Mostrar los valores de f(x) en cada iteración\n",
    "print(\"Valores de f(x) en cada iteración:\")\n",
    "for i, fx in enumerate(valores_fx, start=1):\n",
    "    print(f\"Iteración {i}: f(x) = {fx:.6f}\")\n",
    "\n",
    "# Mostrar la raíz final\n",
    "print(f\"\\nLa raíz encontrada usando el método de Newton con x0={x0} es: {raiz:.6f}\")"
   ]
  },
  {
   "cell_type": "code",
   "execution_count": null,
   "id": "6c20f5eb",
   "metadata": {},
   "outputs": [],
   "source": [
    "# Evaluar la función en x = 100\n",
    "x_eval = 0\n",
    "resultado = f(x_eval)\n",
    "\n",
    "print(f\"El valor de f(100) es: {resultado}\")\n",
    "# Evaluar la derivada de la función en x = 100\n",
    "\n",
    "\n",
    "resultado_derivada = f_prime(x_eval)\n",
    "\n",
    "print(f\"La derivada de f(x) en x = 100 es: {resultado_derivada}\")"
   ]
  }
 ],
 "metadata": {
  "kernelspec": {
   "display_name": "Python 3",
   "language": "python",
   "name": "python3"
  },
  "language_info": {
   "codemirror_mode": {
    "name": "ipython",
    "version": 3
   },
   "file_extension": ".py",
   "mimetype": "text/x-python",
   "name": "python",
   "nbconvert_exporter": "python",
   "pygments_lexer": "ipython3",
   "version": "3.11.9"
  }
 },
 "nbformat": 4,
 "nbformat_minor": 5
}
